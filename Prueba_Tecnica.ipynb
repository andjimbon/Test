{
  "nbformat": 4,
  "nbformat_minor": 0,
  "metadata": {
    "colab": {
      "name": "Prueba Tecnica.ipynb",
      "provenance": [],
      "collapsed_sections": [],
      "toc_visible": true
    },
    "kernelspec": {
      "name": "python3",
      "display_name": "Python 3"
    }
  },
  "cells": [
    {
      "cell_type": "markdown",
      "metadata": {
        "id": "IJBEs3qlljHm",
        "colab_type": "text"
      },
      "source": [
        "# Company Exercise"
      ]
    },
    {
      "cell_type": "code",
      "metadata": {
        "id": "Gqy1tY7PNxeY",
        "colab_type": "code",
        "colab": {},
        "cellView": "form"
      },
      "source": [
        "#@title\n",
        "import pandas as pd\n",
        "from datetime import datetime\n",
        "import numpy as np\n",
        "import matplotlib.pyplot as plt\n",
        "%matplotlib inline\n",
        "plt.style.use('fivethirtyeight')\n"
      ],
      "execution_count": 424,
      "outputs": []
    },
    {
      "cell_type": "code",
      "metadata": {
        "id": "RzbTnG3QLsGw",
        "colab_type": "code",
        "colab": {},
        "cellView": "form"
      },
      "source": [
        "#@title\n",
        "from google.colab import files\n",
        "\n",
        "uploaded = files.upload()\n",
        "\n",
        "for i in uploaded.keys():\n",
        "  print('User uploaded file \"{name}\" with length {length} bytes'.format(\n",
        "      name=i, length=len(uploaded[i])))"
      ],
      "execution_count": null,
      "outputs": []
    },
    {
      "cell_type": "code",
      "metadata": {
        "id": "DeAVQZuBN68K",
        "colab_type": "code",
        "colab": {},
        "cellView": "form"
      },
      "source": [
        "#@title\n",
        "parser = lambda x: datetime.strptime(x, \"%Y%m\")\n",
        "\n",
        "df = pd.read_csv('Producto_vts.csv',parse_dates=['PERIODO'],date_parser=parser)\n",
        "df1 = pd.read_csv('Producto_uds.csv',parse_dates=['PERIODO'],date_parser=parser)\n",
        "df2 = pd.read_csv('info_cltes.csv')"
      ],
      "execution_count": null,
      "outputs": []
    },
    {
      "cell_type": "markdown",
      "metadata": {
        "id": "ObHnNHFyhTvg",
        "colab_type": "text"
      },
      "source": [
        "# Join Tables"
      ]
    },
    {
      "cell_type": "code",
      "metadata": {
        "id": "C3T63CYorw9p",
        "colab_type": "code",
        "colab": {
          "base_uri": "https://localhost:8080/",
          "height": 197
        },
        "outputId": "c1ddfbd7-f933-48e4-a3ae-6d0d261ad524"
      },
      "source": [
        "df_concat = pd.concat([df,df1],axis=1)\n",
        "df_concat = df_concat.loc[:,~df_concat.columns.duplicated()].drop('TIPO REGISTRO',axis=1)\n",
        "table = df_concat.merge(df2, on='ID CLIENTE')\n",
        "table.head()"
      ],
      "execution_count": 142,
      "outputs": [
        {
          "output_type": "execute_result",
          "data": {
            "text/html": [
              "<div>\n",
              "<style scoped>\n",
              "    .dataframe tbody tr th:only-of-type {\n",
              "        vertical-align: middle;\n",
              "    }\n",
              "\n",
              "    .dataframe tbody tr th {\n",
              "        vertical-align: top;\n",
              "    }\n",
              "\n",
              "    .dataframe thead th {\n",
              "        text-align: right;\n",
              "    }\n",
              "</style>\n",
              "<table border=\"1\" class=\"dataframe\">\n",
              "  <thead>\n",
              "    <tr style=\"text-align: right;\">\n",
              "      <th></th>\n",
              "      <th>ID CLIENTE</th>\n",
              "      <th>PRODUCTO</th>\n",
              "      <th>PERIODO</th>\n",
              "      <th>VALOR</th>\n",
              "      <th>UNIDADES</th>\n",
              "      <th>PAIS</th>\n",
              "      <th>TIPO DE CLIENTE</th>\n",
              "    </tr>\n",
              "  </thead>\n",
              "  <tbody>\n",
              "    <tr>\n",
              "      <th>0</th>\n",
              "      <td>1</td>\n",
              "      <td>A</td>\n",
              "      <td>2019-01-01</td>\n",
              "      <td>0.0</td>\n",
              "      <td>0</td>\n",
              "      <td>JAPON</td>\n",
              "      <td>Exportación</td>\n",
              "    </tr>\n",
              "    <tr>\n",
              "      <th>1</th>\n",
              "      <td>1</td>\n",
              "      <td>A</td>\n",
              "      <td>2019-02-01</td>\n",
              "      <td>480.0</td>\n",
              "      <td>3000</td>\n",
              "      <td>JAPON</td>\n",
              "      <td>Exportación</td>\n",
              "    </tr>\n",
              "    <tr>\n",
              "      <th>2</th>\n",
              "      <td>1</td>\n",
              "      <td>A</td>\n",
              "      <td>2019-03-01</td>\n",
              "      <td>0.0</td>\n",
              "      <td>0</td>\n",
              "      <td>JAPON</td>\n",
              "      <td>Exportación</td>\n",
              "    </tr>\n",
              "    <tr>\n",
              "      <th>3</th>\n",
              "      <td>1</td>\n",
              "      <td>A</td>\n",
              "      <td>2019-04-01</td>\n",
              "      <td>0.0</td>\n",
              "      <td>0</td>\n",
              "      <td>JAPON</td>\n",
              "      <td>Exportación</td>\n",
              "    </tr>\n",
              "    <tr>\n",
              "      <th>4</th>\n",
              "      <td>1</td>\n",
              "      <td>A</td>\n",
              "      <td>2019-05-01</td>\n",
              "      <td>0.0</td>\n",
              "      <td>0</td>\n",
              "      <td>JAPON</td>\n",
              "      <td>Exportación</td>\n",
              "    </tr>\n",
              "  </tbody>\n",
              "</table>\n",
              "</div>"
            ],
            "text/plain": [
              "   ID CLIENTE PRODUCTO    PERIODO  VALOR  UNIDADES   PAIS TIPO DE CLIENTE\n",
              "0           1        A 2019-01-01    0.0         0  JAPON     Exportación\n",
              "1           1        A 2019-02-01  480.0      3000  JAPON     Exportación\n",
              "2           1        A 2019-03-01    0.0         0  JAPON     Exportación\n",
              "3           1        A 2019-04-01    0.0         0  JAPON     Exportación\n",
              "4           1        A 2019-05-01    0.0         0  JAPON     Exportación"
            ]
          },
          "metadata": {
            "tags": []
          },
          "execution_count": 142
        }
      ]
    },
    {
      "cell_type": "markdown",
      "metadata": {
        "id": "u9aSV-iVhgQ4",
        "colab_type": "text"
      },
      "source": [
        "# Total Sales by Product"
      ]
    },
    {
      "cell_type": "code",
      "metadata": {
        "id": "ivh-nLNPgJZo",
        "colab_type": "code",
        "colab": {
          "base_uri": "https://localhost:8080/",
          "height": 287
        },
        "cellView": "form",
        "outputId": "bb8781dc-2fa6-4a7b-84dd-510528ff9a4b"
      },
      "source": [
        "#@title\n",
        "t1 = table.groupby('PRODUCTO').agg(['sum'])[['VALOR','UNIDADES']]\n",
        "t1['VALOR(%)'] = t1['VALOR']/t1['VALOR'].sum() * 100\n",
        "t1['UDS (%)'] = t1['UNIDADES']/t1['UNIDADES'].sum() * 100\n",
        "t1['Precio Promedio ($)'] = t1['VALOR']/t1['UNIDADES']\n",
        "t1"
      ],
      "execution_count": 455,
      "outputs": [
        {
          "output_type": "execute_result",
          "data": {
            "text/html": [
              "<div>\n",
              "<style scoped>\n",
              "    .dataframe tbody tr th:only-of-type {\n",
              "        vertical-align: middle;\n",
              "    }\n",
              "\n",
              "    .dataframe tbody tr th {\n",
              "        vertical-align: top;\n",
              "    }\n",
              "\n",
              "    .dataframe thead tr th {\n",
              "        text-align: left;\n",
              "    }\n",
              "\n",
              "    .dataframe thead tr:last-of-type th {\n",
              "        text-align: right;\n",
              "    }\n",
              "</style>\n",
              "<table border=\"1\" class=\"dataframe\">\n",
              "  <thead>\n",
              "    <tr>\n",
              "      <th></th>\n",
              "      <th>VALOR</th>\n",
              "      <th>UNIDADES</th>\n",
              "      <th>VALOR(%)</th>\n",
              "      <th>UDS (%)</th>\n",
              "      <th>Precio Promedio ($)</th>\n",
              "    </tr>\n",
              "    <tr>\n",
              "      <th></th>\n",
              "      <th>sum</th>\n",
              "      <th>sum</th>\n",
              "      <th></th>\n",
              "      <th></th>\n",
              "      <th></th>\n",
              "    </tr>\n",
              "    <tr>\n",
              "      <th>PRODUCTO</th>\n",
              "      <th></th>\n",
              "      <th></th>\n",
              "      <th></th>\n",
              "      <th></th>\n",
              "      <th></th>\n",
              "    </tr>\n",
              "  </thead>\n",
              "  <tbody>\n",
              "    <tr>\n",
              "      <th>A</th>\n",
              "      <td>8,086,871.49</td>\n",
              "      <td>46834797</td>\n",
              "      <td>87.16</td>\n",
              "      <td>91.10</td>\n",
              "      <td>0.17</td>\n",
              "    </tr>\n",
              "    <tr>\n",
              "      <th>B</th>\n",
              "      <td>376,764.80</td>\n",
              "      <td>456610</td>\n",
              "      <td>4.06</td>\n",
              "      <td>0.89</td>\n",
              "      <td>0.83</td>\n",
              "    </tr>\n",
              "    <tr>\n",
              "      <th>C</th>\n",
              "      <td>355,196.38</td>\n",
              "      <td>2136545</td>\n",
              "      <td>3.83</td>\n",
              "      <td>4.16</td>\n",
              "      <td>0.17</td>\n",
              "    </tr>\n",
              "    <tr>\n",
              "      <th>D</th>\n",
              "      <td>299,198.12</td>\n",
              "      <td>1336980</td>\n",
              "      <td>3.22</td>\n",
              "      <td>2.60</td>\n",
              "      <td>0.22</td>\n",
              "    </tr>\n",
              "    <tr>\n",
              "      <th>E</th>\n",
              "      <td>131,667.80</td>\n",
              "      <td>585800</td>\n",
              "      <td>1.42</td>\n",
              "      <td>1.14</td>\n",
              "      <td>0.22</td>\n",
              "    </tr>\n",
              "    <tr>\n",
              "      <th>F</th>\n",
              "      <td>28,658.17</td>\n",
              "      <td>56800</td>\n",
              "      <td>0.31</td>\n",
              "      <td>0.11</td>\n",
              "      <td>0.50</td>\n",
              "    </tr>\n",
              "  </tbody>\n",
              "</table>\n",
              "</div>"
            ],
            "text/plain": [
              "                VALOR  UNIDADES VALOR(%) UDS (%) Precio Promedio ($)\n",
              "                  sum       sum                                     \n",
              "PRODUCTO                                                            \n",
              "A        8,086,871.49  46834797    87.16   91.10                0.17\n",
              "B          376,764.80    456610     4.06    0.89                0.83\n",
              "C          355,196.38   2136545     3.83    4.16                0.17\n",
              "D          299,198.12   1336980     3.22    2.60                0.22\n",
              "E          131,667.80    585800     1.42    1.14                0.22\n",
              "F           28,658.17     56800     0.31    0.11                0.50"
            ]
          },
          "metadata": {
            "tags": []
          },
          "execution_count": 455
        }
      ]
    },
    {
      "cell_type": "markdown",
      "metadata": {
        "id": "Qlpw2JkghqKq",
        "colab_type": "text"
      },
      "source": [
        "# Total Sales by Type of Client"
      ]
    },
    {
      "cell_type": "code",
      "metadata": {
        "id": "O-lLWOR_1v-f",
        "colab_type": "code",
        "colab": {
          "base_uri": "https://localhost:8080/",
          "height": 167
        },
        "cellView": "form",
        "outputId": "164c5952-e367-420d-eb9c-290f02173e51"
      },
      "source": [
        "#@title\n",
        "t2 = table.groupby('TIPO DE CLIENTE').agg(['sum'])[['VALOR','UNIDADES']]\n",
        "t2['VALOR (%)'] = t2['VALOR']/t2['VALOR'].sum() * 100\n",
        "t2['UDS (%)'] = t2['UNIDADES']/t2['UNIDADES'].sum() * 100\n",
        "t2['Precio Promedio ($)'] = t2['VALOR']/t2['UNIDADES']\n",
        "t2"
      ],
      "execution_count": 457,
      "outputs": [
        {
          "output_type": "execute_result",
          "data": {
            "text/html": [
              "<div>\n",
              "<style scoped>\n",
              "    .dataframe tbody tr th:only-of-type {\n",
              "        vertical-align: middle;\n",
              "    }\n",
              "\n",
              "    .dataframe tbody tr th {\n",
              "        vertical-align: top;\n",
              "    }\n",
              "\n",
              "    .dataframe thead tr th {\n",
              "        text-align: left;\n",
              "    }\n",
              "\n",
              "    .dataframe thead tr:last-of-type th {\n",
              "        text-align: right;\n",
              "    }\n",
              "</style>\n",
              "<table border=\"1\" class=\"dataframe\">\n",
              "  <thead>\n",
              "    <tr>\n",
              "      <th></th>\n",
              "      <th>VALOR</th>\n",
              "      <th>UNIDADES</th>\n",
              "      <th>VALOR (%)</th>\n",
              "      <th>UDS (%)</th>\n",
              "      <th>Precio Promedio ($)</th>\n",
              "    </tr>\n",
              "    <tr>\n",
              "      <th></th>\n",
              "      <th>sum</th>\n",
              "      <th>sum</th>\n",
              "      <th></th>\n",
              "      <th></th>\n",
              "      <th></th>\n",
              "    </tr>\n",
              "    <tr>\n",
              "      <th>TIPO DE CLIENTE</th>\n",
              "      <th></th>\n",
              "      <th></th>\n",
              "      <th></th>\n",
              "      <th></th>\n",
              "      <th></th>\n",
              "    </tr>\n",
              "  </thead>\n",
              "  <tbody>\n",
              "    <tr>\n",
              "      <th>Exportación</th>\n",
              "      <td>8,908,207.66</td>\n",
              "      <td>48935332</td>\n",
              "      <td>96.01</td>\n",
              "      <td>95.19</td>\n",
              "      <td>0.18</td>\n",
              "    </tr>\n",
              "    <tr>\n",
              "      <th>Local</th>\n",
              "      <td>370,149.10</td>\n",
              "      <td>2472200</td>\n",
              "      <td>3.99</td>\n",
              "      <td>4.81</td>\n",
              "      <td>0.15</td>\n",
              "    </tr>\n",
              "  </tbody>\n",
              "</table>\n",
              "</div>"
            ],
            "text/plain": [
              "                       VALOR  UNIDADES VALOR (%) UDS (%) Precio Promedio ($)\n",
              "                         sum       sum                                      \n",
              "TIPO DE CLIENTE                                                             \n",
              "Exportación     8,908,207.66  48935332     96.01   95.19                0.18\n",
              "Local             370,149.10   2472200      3.99    4.81                0.15"
            ]
          },
          "metadata": {
            "tags": []
          },
          "execution_count": 457
        }
      ]
    },
    {
      "cell_type": "markdown",
      "metadata": {
        "id": "tTBWsaI5hz56",
        "colab_type": "text"
      },
      "source": [
        "# Total Sales by Country"
      ]
    },
    {
      "cell_type": "code",
      "metadata": {
        "id": "d-y2fTK-1wZU",
        "colab_type": "code",
        "colab": {
          "base_uri": "https://localhost:8080/",
          "height": 677
        },
        "cellView": "form",
        "outputId": "672100c6-6b00-4aad-d216-b7c2d67983c3"
      },
      "source": [
        "#@title\n",
        "t3 = table.groupby('PAIS').agg(['sum'])[['VALOR','UNIDADES']]\n",
        "t3['VALOR (%)'] = t3['VALOR']/t3['VALOR'].sum() * 100\n",
        "t3['UDS (%)'] = t3['UNIDADES']/t3['UNIDADES'].sum() * 100\n",
        "t3['Precio Promedio ($)'] = t3['VALOR']/t3['UNIDADES']\n",
        "t3.sort_values(by='VALOR (%)',ascending=False)"
      ],
      "execution_count": 456,
      "outputs": [
        {
          "output_type": "execute_result",
          "data": {
            "text/html": [
              "<div>\n",
              "<style scoped>\n",
              "    .dataframe tbody tr th:only-of-type {\n",
              "        vertical-align: middle;\n",
              "    }\n",
              "\n",
              "    .dataframe tbody tr th {\n",
              "        vertical-align: top;\n",
              "    }\n",
              "\n",
              "    .dataframe thead tr th {\n",
              "        text-align: left;\n",
              "    }\n",
              "\n",
              "    .dataframe thead tr:last-of-type th {\n",
              "        text-align: right;\n",
              "    }\n",
              "</style>\n",
              "<table border=\"1\" class=\"dataframe\">\n",
              "  <thead>\n",
              "    <tr>\n",
              "      <th></th>\n",
              "      <th>VALOR</th>\n",
              "      <th>UNIDADES</th>\n",
              "      <th>VALOR (%)</th>\n",
              "      <th>UDS (%)</th>\n",
              "      <th>Precio Promedio ($)</th>\n",
              "    </tr>\n",
              "    <tr>\n",
              "      <th></th>\n",
              "      <th>sum</th>\n",
              "      <th>sum</th>\n",
              "      <th></th>\n",
              "      <th></th>\n",
              "      <th></th>\n",
              "    </tr>\n",
              "    <tr>\n",
              "      <th>PAIS</th>\n",
              "      <th></th>\n",
              "      <th></th>\n",
              "      <th></th>\n",
              "      <th></th>\n",
              "      <th></th>\n",
              "    </tr>\n",
              "  </thead>\n",
              "  <tbody>\n",
              "    <tr>\n",
              "      <th>ESTADOS UNIDOS</th>\n",
              "      <td>3,118,159.37</td>\n",
              "      <td>16467950</td>\n",
              "      <td>33.61</td>\n",
              "      <td>32.03</td>\n",
              "      <td>0.19</td>\n",
              "    </tr>\n",
              "    <tr>\n",
              "      <th>INGLATERRA</th>\n",
              "      <td>2,757,020.05</td>\n",
              "      <td>17410788</td>\n",
              "      <td>29.71</td>\n",
              "      <td>33.87</td>\n",
              "      <td>0.16</td>\n",
              "    </tr>\n",
              "    <tr>\n",
              "      <th>PAISES BAJOS</th>\n",
              "      <td>1,876,933.80</td>\n",
              "      <td>7665390</td>\n",
              "      <td>20.23</td>\n",
              "      <td>14.91</td>\n",
              "      <td>0.24</td>\n",
              "    </tr>\n",
              "    <tr>\n",
              "      <th>CANADA</th>\n",
              "      <td>655,030.53</td>\n",
              "      <td>4155471</td>\n",
              "      <td>7.06</td>\n",
              "      <td>8.08</td>\n",
              "      <td>0.16</td>\n",
              "    </tr>\n",
              "    <tr>\n",
              "      <th>COLOMBIA</th>\n",
              "      <td>370,149.10</td>\n",
              "      <td>2472200</td>\n",
              "      <td>3.99</td>\n",
              "      <td>4.81</td>\n",
              "      <td>0.15</td>\n",
              "    </tr>\n",
              "    <tr>\n",
              "      <th>ESPAÑA</th>\n",
              "      <td>123,373.33</td>\n",
              "      <td>648540</td>\n",
              "      <td>1.33</td>\n",
              "      <td>1.26</td>\n",
              "      <td>0.19</td>\n",
              "    </tr>\n",
              "    <tr>\n",
              "      <th>BRASIL</th>\n",
              "      <td>71,316.40</td>\n",
              "      <td>710860</td>\n",
              "      <td>0.77</td>\n",
              "      <td>1.38</td>\n",
              "      <td>0.10</td>\n",
              "    </tr>\n",
              "    <tr>\n",
              "      <th>SUECIA</th>\n",
              "      <td>70,167.60</td>\n",
              "      <td>467280</td>\n",
              "      <td>0.76</td>\n",
              "      <td>0.91</td>\n",
              "      <td>0.15</td>\n",
              "    </tr>\n",
              "    <tr>\n",
              "      <th>POLONIA</th>\n",
              "      <td>58,527.80</td>\n",
              "      <td>287270</td>\n",
              "      <td>0.63</td>\n",
              "      <td>0.56</td>\n",
              "      <td>0.20</td>\n",
              "    </tr>\n",
              "    <tr>\n",
              "      <th>NUEVA ZELANDA</th>\n",
              "      <td>42,472.00</td>\n",
              "      <td>314413</td>\n",
              "      <td>0.46</td>\n",
              "      <td>0.61</td>\n",
              "      <td>0.14</td>\n",
              "    </tr>\n",
              "    <tr>\n",
              "      <th>CHINA</th>\n",
              "      <td>33,397.20</td>\n",
              "      <td>187150</td>\n",
              "      <td>0.36</td>\n",
              "      <td>0.36</td>\n",
              "      <td>0.18</td>\n",
              "    </tr>\n",
              "    <tr>\n",
              "      <th>SUIZA</th>\n",
              "      <td>25,232.00</td>\n",
              "      <td>140200</td>\n",
              "      <td>0.27</td>\n",
              "      <td>0.27</td>\n",
              "      <td>0.18</td>\n",
              "    </tr>\n",
              "    <tr>\n",
              "      <th>RUMANIA</th>\n",
              "      <td>18,864.96</td>\n",
              "      <td>71160</td>\n",
              "      <td>0.20</td>\n",
              "      <td>0.14</td>\n",
              "      <td>0.27</td>\n",
              "    </tr>\n",
              "    <tr>\n",
              "      <th>JAPON</th>\n",
              "      <td>18,228.00</td>\n",
              "      <td>180480</td>\n",
              "      <td>0.20</td>\n",
              "      <td>0.35</td>\n",
              "      <td>0.10</td>\n",
              "    </tr>\n",
              "    <tr>\n",
              "      <th>AUSTRALIA</th>\n",
              "      <td>15,991.12</td>\n",
              "      <td>109320</td>\n",
              "      <td>0.17</td>\n",
              "      <td>0.21</td>\n",
              "      <td>0.15</td>\n",
              "    </tr>\n",
              "    <tr>\n",
              "      <th>LITUANIA</th>\n",
              "      <td>15,034.00</td>\n",
              "      <td>65800</td>\n",
              "      <td>0.16</td>\n",
              "      <td>0.13</td>\n",
              "      <td>0.23</td>\n",
              "    </tr>\n",
              "    <tr>\n",
              "      <th>PUERTO RICO</th>\n",
              "      <td>3,471.80</td>\n",
              "      <td>23090</td>\n",
              "      <td>0.04</td>\n",
              "      <td>0.04</td>\n",
              "      <td>0.15</td>\n",
              "    </tr>\n",
              "    <tr>\n",
              "      <th>CHILE</th>\n",
              "      <td>3,418.80</td>\n",
              "      <td>22740</td>\n",
              "      <td>0.04</td>\n",
              "      <td>0.04</td>\n",
              "      <td>0.15</td>\n",
              "    </tr>\n",
              "    <tr>\n",
              "      <th>FRANCIA</th>\n",
              "      <td>1,568.90</td>\n",
              "      <td>7430</td>\n",
              "      <td>0.02</td>\n",
              "      <td>0.01</td>\n",
              "      <td>0.21</td>\n",
              "    </tr>\n",
              "  </tbody>\n",
              "</table>\n",
              "</div>"
            ],
            "text/plain": [
              "                      VALOR  UNIDADES VALOR (%) UDS (%) Precio Promedio ($)\n",
              "                        sum       sum                                      \n",
              "PAIS                                                                       \n",
              "ESTADOS UNIDOS 3,118,159.37  16467950     33.61   32.03                0.19\n",
              "INGLATERRA     2,757,020.05  17410788     29.71   33.87                0.16\n",
              "PAISES BAJOS   1,876,933.80   7665390     20.23   14.91                0.24\n",
              "CANADA           655,030.53   4155471      7.06    8.08                0.16\n",
              "COLOMBIA         370,149.10   2472200      3.99    4.81                0.15\n",
              "ESPAÑA           123,373.33    648540      1.33    1.26                0.19\n",
              "BRASIL            71,316.40    710860      0.77    1.38                0.10\n",
              "SUECIA            70,167.60    467280      0.76    0.91                0.15\n",
              "POLONIA           58,527.80    287270      0.63    0.56                0.20\n",
              "NUEVA ZELANDA     42,472.00    314413      0.46    0.61                0.14\n",
              "CHINA             33,397.20    187150      0.36    0.36                0.18\n",
              "SUIZA             25,232.00    140200      0.27    0.27                0.18\n",
              "RUMANIA           18,864.96     71160      0.20    0.14                0.27\n",
              "JAPON             18,228.00    180480      0.20    0.35                0.10\n",
              "AUSTRALIA         15,991.12    109320      0.17    0.21                0.15\n",
              "LITUANIA          15,034.00     65800      0.16    0.13                0.23\n",
              "PUERTO RICO        3,471.80     23090      0.04    0.04                0.15\n",
              "CHILE              3,418.80     22740      0.04    0.04                0.15\n",
              "FRANCIA            1,568.90      7430      0.02    0.01                0.21"
            ]
          },
          "metadata": {
            "tags": []
          },
          "execution_count": 456
        }
      ]
    },
    {
      "cell_type": "markdown",
      "metadata": {
        "id": "tiftpmhHh5K7",
        "colab_type": "text"
      },
      "source": [
        "# Total Sales by Quarter"
      ]
    },
    {
      "cell_type": "code",
      "metadata": {
        "id": "O7JHPqZV1wFX",
        "colab_type": "code",
        "colab": {
          "base_uri": "https://localhost:8080/",
          "height": 227
        },
        "cellView": "form",
        "outputId": "56d41e1a-3c96-4eea-bb98-dfa618dc0134"
      },
      "source": [
        "#@title\n",
        "table.resample('Q').sum()[['VALOR','UNIDADES']]"
      ],
      "execution_count": 231,
      "outputs": [
        {
          "output_type": "execute_result",
          "data": {
            "text/html": [
              "<div>\n",
              "<style scoped>\n",
              "    .dataframe tbody tr th:only-of-type {\n",
              "        vertical-align: middle;\n",
              "    }\n",
              "\n",
              "    .dataframe tbody tr th {\n",
              "        vertical-align: top;\n",
              "    }\n",
              "\n",
              "    .dataframe thead th {\n",
              "        text-align: right;\n",
              "    }\n",
              "</style>\n",
              "<table border=\"1\" class=\"dataframe\">\n",
              "  <thead>\n",
              "    <tr style=\"text-align: right;\">\n",
              "      <th></th>\n",
              "      <th>VALOR</th>\n",
              "      <th>UNIDADES</th>\n",
              "    </tr>\n",
              "    <tr>\n",
              "      <th>PERIODO</th>\n",
              "      <th></th>\n",
              "      <th></th>\n",
              "    </tr>\n",
              "  </thead>\n",
              "  <tbody>\n",
              "    <tr>\n",
              "      <th>2019-03-31</th>\n",
              "      <td>2,254,623.26</td>\n",
              "      <td>11804842</td>\n",
              "    </tr>\n",
              "    <tr>\n",
              "      <th>2019-06-30</th>\n",
              "      <td>2,124,469.76</td>\n",
              "      <td>12252148</td>\n",
              "    </tr>\n",
              "    <tr>\n",
              "      <th>2019-09-30</th>\n",
              "      <td>1,670,865.15</td>\n",
              "      <td>9528306</td>\n",
              "    </tr>\n",
              "    <tr>\n",
              "      <th>2019-12-31</th>\n",
              "      <td>1,566,123.60</td>\n",
              "      <td>8659005</td>\n",
              "    </tr>\n",
              "    <tr>\n",
              "      <th>2020-03-31</th>\n",
              "      <td>1,662,274.99</td>\n",
              "      <td>9163231</td>\n",
              "    </tr>\n",
              "  </tbody>\n",
              "</table>\n",
              "</div>"
            ],
            "text/plain": [
              "                  VALOR  UNIDADES\n",
              "PERIODO                          \n",
              "2019-03-31 2,254,623.26  11804842\n",
              "2019-06-30 2,124,469.76  12252148\n",
              "2019-09-30 1,670,865.15   9528306\n",
              "2019-12-31 1,566,123.60   8659005\n",
              "2020-03-31 1,662,274.99   9163231"
            ]
          },
          "metadata": {
            "tags": []
          },
          "execution_count": 231
        }
      ]
    },
    {
      "cell_type": "markdown",
      "metadata": {
        "id": "HxjB_PyTiCmq",
        "colab_type": "text"
      },
      "source": [
        "# Q/Q Analysis by Product Sales"
      ]
    },
    {
      "cell_type": "code",
      "metadata": {
        "id": "Tody_zamLIHM",
        "colab_type": "code",
        "colab": {
          "base_uri": "https://localhost:8080/",
          "height": 287
        },
        "cellView": "form",
        "outputId": "e051ea9c-e49e-43cf-d840-7e55236a6a4d"
      },
      "source": [
        "#@title\n",
        "table.set_index('PERIODO',inplace=True)\n",
        "table['Quarter'] = table.index.quarter\n",
        "table['Año'] = table.index.year\n",
        "\n",
        "quarter1 = (table['Quarter'] == 1)\n",
        "qvsq = table[quarter1].groupby(['PRODUCTO','Año']).sum()[['VALOR','UNIDADES']]\n",
        "qvsq.reset_index(inplace=True)\n",
        "qvsq = qvsq.pivot(index='PRODUCTO',columns='Año',values=['VALOR','UNIDADES'])\n",
        "qvsq['Delta Valor %'] = qvsq.VALOR.pct_change(axis=1)[2020]*100\n",
        "qvsq['Delta Unidades %'] = qvsq.UNIDADES.pct_change(axis=1)[2020]*100\n",
        "qvsq"
      ],
      "execution_count": 418,
      "outputs": [
        {
          "output_type": "execute_result",
          "data": {
            "text/html": [
              "<div>\n",
              "<style scoped>\n",
              "    .dataframe tbody tr th:only-of-type {\n",
              "        vertical-align: middle;\n",
              "    }\n",
              "\n",
              "    .dataframe tbody tr th {\n",
              "        vertical-align: top;\n",
              "    }\n",
              "\n",
              "    .dataframe thead tr th {\n",
              "        text-align: left;\n",
              "    }\n",
              "\n",
              "    .dataframe thead tr:last-of-type th {\n",
              "        text-align: right;\n",
              "    }\n",
              "</style>\n",
              "<table border=\"1\" class=\"dataframe\">\n",
              "  <thead>\n",
              "    <tr>\n",
              "      <th></th>\n",
              "      <th colspan=\"2\" halign=\"left\">VALOR</th>\n",
              "      <th colspan=\"2\" halign=\"left\">UNIDADES</th>\n",
              "      <th>Delta Valor %</th>\n",
              "      <th>Delta Unidades %</th>\n",
              "    </tr>\n",
              "    <tr>\n",
              "      <th>Año</th>\n",
              "      <th>2019</th>\n",
              "      <th>2020</th>\n",
              "      <th>2019</th>\n",
              "      <th>2020</th>\n",
              "      <th></th>\n",
              "      <th></th>\n",
              "    </tr>\n",
              "    <tr>\n",
              "      <th>PRODUCTO</th>\n",
              "      <th></th>\n",
              "      <th></th>\n",
              "      <th></th>\n",
              "      <th></th>\n",
              "      <th></th>\n",
              "      <th></th>\n",
              "    </tr>\n",
              "  </thead>\n",
              "  <tbody>\n",
              "    <tr>\n",
              "      <th>A</th>\n",
              "      <td>1,957,520.71</td>\n",
              "      <td>1,465,956.55</td>\n",
              "      <td>10,670,192.00</td>\n",
              "      <td>8,392,511.00</td>\n",
              "      <td>-25.11</td>\n",
              "      <td>-21.35</td>\n",
              "    </tr>\n",
              "    <tr>\n",
              "      <th>B</th>\n",
              "      <td>62,071.80</td>\n",
              "      <td>64,093.00</td>\n",
              "      <td>80,000.00</td>\n",
              "      <td>77,370.00</td>\n",
              "      <td>3.26</td>\n",
              "      <td>-3.29</td>\n",
              "    </tr>\n",
              "    <tr>\n",
              "      <th>C</th>\n",
              "      <td>69,795.88</td>\n",
              "      <td>105,227.52</td>\n",
              "      <td>356,075.00</td>\n",
              "      <td>575,470.00</td>\n",
              "      <td>50.76</td>\n",
              "      <td>61.61</td>\n",
              "    </tr>\n",
              "    <tr>\n",
              "      <th>D</th>\n",
              "      <td>108,690.00</td>\n",
              "      <td>15,189.92</td>\n",
              "      <td>464,200.00</td>\n",
              "      <td>95,480.00</td>\n",
              "      <td>-86.02</td>\n",
              "      <td>-79.43</td>\n",
              "    </tr>\n",
              "    <tr>\n",
              "      <th>E</th>\n",
              "      <td>50,197.20</td>\n",
              "      <td>0.00</td>\n",
              "      <td>221,600.00</td>\n",
              "      <td>0.00</td>\n",
              "      <td>-100.00</td>\n",
              "      <td>-100.00</td>\n",
              "    </tr>\n",
              "    <tr>\n",
              "      <th>F</th>\n",
              "      <td>6,347.67</td>\n",
              "      <td>11,808.00</td>\n",
              "      <td>12,775.00</td>\n",
              "      <td>22,400.00</td>\n",
              "      <td>86.02</td>\n",
              "      <td>75.34</td>\n",
              "    </tr>\n",
              "  </tbody>\n",
              "</table>\n",
              "</div>"
            ],
            "text/plain": [
              "                VALOR               ... Delta Valor % Delta Unidades %\n",
              "Año              2019         2020  ...                               \n",
              "PRODUCTO                            ...                               \n",
              "A        1,957,520.71 1,465,956.55  ...        -25.11           -21.35\n",
              "B           62,071.80    64,093.00  ...          3.26            -3.29\n",
              "C           69,795.88   105,227.52  ...         50.76            61.61\n",
              "D          108,690.00    15,189.92  ...        -86.02           -79.43\n",
              "E           50,197.20         0.00  ...       -100.00          -100.00\n",
              "F            6,347.67    11,808.00  ...         86.02            75.34\n",
              "\n",
              "[6 rows x 6 columns]"
            ]
          },
          "metadata": {
            "tags": []
          },
          "execution_count": 418
        }
      ]
    },
    {
      "cell_type": "markdown",
      "metadata": {
        "id": "G7gvDWxZiq7x",
        "colab_type": "text"
      },
      "source": [
        "## By Country"
      ]
    },
    {
      "cell_type": "code",
      "metadata": {
        "id": "LrpeifplixBi",
        "colab_type": "code",
        "colab": {}
      },
      "source": [
        "country = 'ESTADOS UNIDOS'"
      ],
      "execution_count": 460,
      "outputs": []
    },
    {
      "cell_type": "code",
      "metadata": {
        "id": "Z32A8o5zilXc",
        "colab_type": "code",
        "colab": {
          "base_uri": "https://localhost:8080/",
          "height": 197
        },
        "cellView": "form",
        "outputId": "5b5cd011-f84d-410b-90e6-ff5fe749644b"
      },
      "source": [
        "#@title\n",
        "quarter1 = (table['Quarter'] == 1) & (table['PAIS'] == country)\n",
        "qvsq = table[quarter1].groupby(['PRODUCTO','Año']).sum()[['VALOR','UNIDADES']]\n",
        "qvsq.reset_index(inplace=True)\n",
        "qvsq = qvsq.pivot(index='PRODUCTO',columns='Año',values=['VALOR','UNIDADES'])\n",
        "qvsq['Delta Valor %'] = qvsq.VALOR.pct_change(axis=1)[2020]*100\n",
        "qvsq['Delta Unidades %'] = qvsq.UNIDADES.pct_change(axis=1)[2020]*100\n",
        "qvsq"
      ],
      "execution_count": 461,
      "outputs": [
        {
          "output_type": "execute_result",
          "data": {
            "text/html": [
              "<div>\n",
              "<style scoped>\n",
              "    .dataframe tbody tr th:only-of-type {\n",
              "        vertical-align: middle;\n",
              "    }\n",
              "\n",
              "    .dataframe tbody tr th {\n",
              "        vertical-align: top;\n",
              "    }\n",
              "\n",
              "    .dataframe thead tr th {\n",
              "        text-align: left;\n",
              "    }\n",
              "\n",
              "    .dataframe thead tr:last-of-type th {\n",
              "        text-align: right;\n",
              "    }\n",
              "</style>\n",
              "<table border=\"1\" class=\"dataframe\">\n",
              "  <thead>\n",
              "    <tr>\n",
              "      <th></th>\n",
              "      <th colspan=\"2\" halign=\"left\">VALOR</th>\n",
              "      <th colspan=\"2\" halign=\"left\">UNIDADES</th>\n",
              "      <th>Delta Valor %</th>\n",
              "      <th>Delta Unidades %</th>\n",
              "    </tr>\n",
              "    <tr>\n",
              "      <th>Año</th>\n",
              "      <th>2019</th>\n",
              "      <th>2020</th>\n",
              "      <th>2019</th>\n",
              "      <th>2020</th>\n",
              "      <th></th>\n",
              "      <th></th>\n",
              "    </tr>\n",
              "    <tr>\n",
              "      <th>PRODUCTO</th>\n",
              "      <th></th>\n",
              "      <th></th>\n",
              "      <th></th>\n",
              "      <th></th>\n",
              "      <th></th>\n",
              "      <th></th>\n",
              "    </tr>\n",
              "  </thead>\n",
              "  <tbody>\n",
              "    <tr>\n",
              "      <th>A</th>\n",
              "      <td>617,785.77</td>\n",
              "      <td>567,455.00</td>\n",
              "      <td>3,376,256.00</td>\n",
              "      <td>3,056,664.00</td>\n",
              "      <td>-8.15</td>\n",
              "      <td>-9.47</td>\n",
              "    </tr>\n",
              "    <tr>\n",
              "      <th>B</th>\n",
              "      <td>60,733.80</td>\n",
              "      <td>60,751.00</td>\n",
              "      <td>78,140.00</td>\n",
              "      <td>72,810.00</td>\n",
              "      <td>0.03</td>\n",
              "      <td>-6.82</td>\n",
              "    </tr>\n",
              "    <tr>\n",
              "      <th>C</th>\n",
              "      <td>4,582.50</td>\n",
              "      <td>16,837.10</td>\n",
              "      <td>27,120.00</td>\n",
              "      <td>106,130.00</td>\n",
              "      <td>267.42</td>\n",
              "      <td>291.33</td>\n",
              "    </tr>\n",
              "  </tbody>\n",
              "</table>\n",
              "</div>"
            ],
            "text/plain": [
              "              VALOR             ... Delta Valor % Delta Unidades %\n",
              "Año            2019       2020  ...                               \n",
              "PRODUCTO                        ...                               \n",
              "A        617,785.77 567,455.00  ...         -8.15            -9.47\n",
              "B         60,733.80  60,751.00  ...          0.03            -6.82\n",
              "C          4,582.50  16,837.10  ...        267.42           291.33\n",
              "\n",
              "[3 rows x 6 columns]"
            ]
          },
          "metadata": {
            "tags": []
          },
          "execution_count": 461
        }
      ]
    },
    {
      "cell_type": "markdown",
      "metadata": {
        "id": "kcwuWc_Mi6zc",
        "colab_type": "text"
      },
      "source": [
        "# Some Charts"
      ]
    },
    {
      "cell_type": "code",
      "metadata": {
        "id": "BSLDGo6acn3q",
        "colab_type": "code",
        "colab": {
          "base_uri": "https://localhost:8080/",
          "height": 322
        },
        "outputId": "85156497-3f60-4da5-9804-d2d78d8176c3"
      },
      "source": [
        "t1['% VALOR'].plot.bar(figsize=(8,4))\n",
        "plt.title('Ventas Totales por Producto');"
      ],
      "execution_count": 449,
      "outputs": [
        {
          "output_type": "display_data",
          "data": {
            "image/png": "[encoded data removed]",
            "text/plain": [
              "<Figure size 576x288 with 1 Axes>"
            ]
          },
          "metadata": {
            "tags": []
          }
        }
      ]
    },
    {
      "cell_type": "code",
      "metadata": {
        "id": "QTwVu4lTdgnt",
        "colab_type": "code",
        "colab": {
          "base_uri": "https://localhost:8080/",
          "height": 303
        },
        "outputId": "41cdceab-b357-409f-d096-a3423c8f65dd"
      },
      "source": [
        "t2['% VALOR'].plot.barh(figsize=(8,4))\n",
        "plt.title('Ventas Totales por Tipo Cliente');"
      ],
      "execution_count": 450,
      "outputs": [
        {
          "output_type": "display_data",
          "data": {
            "image/png": "[encoded data removed]",
            "text/plain": [
              "<Figure size 576x288 with 1 Axes>"
            ]
          },
          "metadata": {
            "tags": []
          }
        }
      ]
    },
    {
      "cell_type": "markdown",
      "metadata": {
        "id": "Dd4ViiTejIEG",
        "colab_type": "text"
      },
      "source": [
        "# Summary"
      ]
    },
    {
      "cell_type": "markdown",
      "metadata": {
        "id": "Nc3RkszmjLR9",
        "colab_type": "text"
      },
      "source": [
        "\n",
        "\n",
        "* Product A is the one that accumulates the highest sales in all periods, obtaining 91% of total units. It is also the one that generates the highest revenue to the company\n",
        "\n",
        "* Clearly, commercial efforts should be concentrated on product A, as the others do not have much sales potential over total sales\n",
        "\n",
        "* Export sales generate 96% of the company's total sales\n",
        "\n",
        "* In foreign countries, the one that generates the higher sales is USA with 35% of total sales\n",
        "\n",
        "* 95% of sales are concentrated in 5 countries: USA, England, Netherlands, Canada and Spain\n",
        "\n",
        "* Comparing the first quarter of 2019 and 2020, product A decreases 21% in units and 25% in revenue.\n",
        "This is due to the main losses in the USA, Netherlands, Spain and England\n",
        "\n",
        "* Product B has the highest average price compared to other products ($ 0.83)\n",
        "\n",
        "* Sales for the first half of 2019 were 35% higher compared to the second half of the same year\n",
        "\n"
      ]
    }
  ]
}